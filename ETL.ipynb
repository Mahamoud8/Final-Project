{
 "metadata": {
  "language_info": {
   "codemirror_mode": {
    "name": "ipython",
    "version": 3
   },
   "file_extension": ".py",
   "mimetype": "text/x-python",
   "name": "python",
   "nbconvert_exporter": "python",
   "pygments_lexer": "ipython3",
   "version": "3.7.6-final"
  },
  "orig_nbformat": 2,
  "kernelspec": {
   "name": "python3",
   "display_name": "Python 3"
  }
 },
 "nbformat": 4,
 "nbformat_minor": 2,
 "cells": [
  {
   "cell_type": "code",
   "execution_count": null,
   "metadata": {},
   "outputs": [],
   "source": [
    "# INDICES ETL"
   ]
  },
  {
   "cell_type": "code",
   "execution_count": 22,
   "metadata": {},
   "outputs": [],
   "source": [
    "import pandas as pd\n",
    "\n",
    "pop = pd.read_csv('pop_raw.csv', encoding='latin1')\n",
    "col = pd.read_csv('col_raw.csv', encoding='latin1')\n",
    "qol = pd.read_csv('qol_raw.csv', encoding='latin1')\n"
   ]
  },
  {
   "cell_type": "code",
   "execution_count": 23,
   "metadata": {},
   "outputs": [],
   "source": [
    "pop = pop[pop['Part_Test']==False]\n",
    "\n",
    "pop = pop[pop['City_State_Test']==0]\n",
    "\n",
    "pop = pop[pop['Minor_Civ_Test']==0]\n"
   ]
  },
  {
   "cell_type": "code",
   "execution_count": 24,
   "metadata": {},
   "outputs": [],
   "source": [
    "pop_qol = pop.merge(qol,  how='inner', on=['State','City'])\n",
    "\n",
    "pop_qol = pop_qol.drop(columns=['STATE' , 'CONCIT' , 'FUNCSTAT' , 'SUMLEV' , 'COUNTY' , 'PLACE' , 'COUSUB' , 'PRIMGEO_FLAG', 'City_State_Test' , 'Part_Test' , 'Minor_Civ_Test']).drop_duplicates()\n",
    "\n",
    "pop_qol_col = pop_qol.merge(col,  how='inner', on=['State','City'])\n",
    "\n",
    "pop_qol_col = pop_qol_col.drop(columns=['Cost of Living Index_y', 'Country'])\n",
    "\n"
   ]
  },
  {
   "cell_type": "code",
   "execution_count": 25,
   "metadata": {},
   "outputs": [],
   "source": [
    "pop_qol_col = pop_qol_col.rename(columns={'ï»¿Rank_x':'Quality of Life Ranking', 'ï»¿Rank_y': 'Cost of Living Ranking', 'Cost of Living Index_x': 'Cost of Living Without Rent Index' , 'STNAME':'State Name' , 'POPESTIMATE2019':'Population' })"
   ]
  },
  {
   "cell_type": "code",
   "execution_count": 26,
   "metadata": {},
   "outputs": [],
   "source": [
    "# pop_qol_col"
   ]
  },
  {
   "cell_type": "code",
   "execution_count": 27,
   "metadata": {},
   "outputs": [],
   "source": [
    "pop_qol_col.to_csv('master_indices.csv')"
   ]
  },
  {
   "cell_type": "code",
   "execution_count": null,
   "metadata": {},
   "outputs": [],
   "source": [
    "# DEMOGRAPHICS ETL"
   ]
  },
  {
   "cell_type": "code",
   "execution_count": 28,
   "metadata": {},
   "outputs": [],
   "source": [
    "demo = pd.read_csv('demo_raw.csv', encoding='latin1')\n",
    "\n",
    "demo = demo.drop(columns=['SEX' , 'ORIGIN' , 'RACE' ,'AGE'])"
   ]
  },
  {
   "cell_type": "code",
   "execution_count": 30,
   "metadata": {},
   "outputs": [],
   "source": [
    "demo = demo.groupby(by=['State','Origin', 'Sex', 'Race']).sum()"
   ]
  },
  {
   "cell_type": "code",
   "execution_count": 31,
   "metadata": {},
   "outputs": [],
   "source": [
    "demo.to_csv('master_demographics.csv')"
   ]
  },
  {
   "cell_type": "code",
   "execution_count": null,
   "metadata": {},
   "outputs": [],
   "source": []
  }
 ]
}